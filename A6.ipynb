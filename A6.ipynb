{
 "cells": [
  {
   "cell_type": "markdown",
   "metadata": {
    "deletable": false,
    "editable": false,
    "nbgrader": {
     "cell_type": "markdown",
     "checksum": "7158b473b8ca98a09a7a9b2043db6e5f",
     "grade": false,
     "grade_id": "cell-8270991a73638fc0",
     "locked": true,
     "schema_version": 3,
     "solution": false
    }
   },
   "source": [
    "# Assignment 6\n",
    "## Opinions Based in Numerical Fact!\n",
    "### Maximum grade: 20 / 16\n",
    "\n",
    "The purpose of this lab is to:\n",
    "- Practice implementing numerical methods\n",
    "- Save us from any future embarassment with aliens\n",
    "- Teach students not to rely on built in functions"
   ]
  },
  {
   "cell_type": "code",
   "execution_count": 3,
   "metadata": {
    "deletable": false,
    "editable": false,
    "nbgrader": {
     "cell_type": "code",
     "checksum": "2298de1e2873e4639644ff4119ced48d",
     "grade": false,
     "grade_id": "cell-d14c3fdf07723b26",
     "locked": true,
     "schema_version": 3,
     "solution": false,
     "task": false
    }
   },
   "outputs": [],
   "source": [
    "def tester(a, b):\n",
    "    \"\"\"\n",
    "    I am the function that tells you if you pass or fail tests.\n",
    "    Run me, please.\n",
    "    \"\"\"\n",
    "    return \"You Passed!\" if a == b else \"You Failed!\""
   ]
  },
  {
   "cell_type": "markdown",
   "metadata": {
    "deletable": false,
    "editable": false,
    "nbgrader": {
     "cell_type": "markdown",
     "checksum": "175a995c96345744650a645e289be1d0",
     "grade": false,
     "grade_id": "cell-71a0b5befc6ac718",
     "locked": true,
     "schema_version": 3,
     "solution": false
    }
   },
   "source": [
    "## Question 1: Binary and Decimal Conversions (4 points)\n",
    "\n",
    "Write two functions, `dec2bin(x)` and `bin2dec(x)` that convert a positive integer from decimal to binary or binary to decimal respectively.  For `dec2bin`, the input `x` is an int, and the output should be a string.  For `bin2dec`, the input `x` is a string, and the output should be an int. \n",
    "\n",
    "The iterative approach is easiest.  If you are feeling adventurous, you could try to come up with a recursive solution.\n",
    "\n",
    "__Prohibited Functions__: You may not use `bin()`, `int()`, `.format()`, or other built-in conversion functions. Write it out by hand or lose the marks."
   ]
  },
  {
   "cell_type": "code",
   "execution_count": 4,
   "metadata": {
    "deletable": false,
    "nbgrader": {
     "cell_type": "code",
     "checksum": "fcddec3a68f6b3e88f5713c4f20512d4",
     "grade": false,
     "grade_id": "cell-9b4bf2416a059320",
     "locked": false,
     "schema_version": 3,
     "solution": true
    }
   },
   "outputs": [],
   "source": [
    "def str_int(x):\n",
    "    sdict = {\n",
    "        '0' : 0,\n",
    "        '1' : 1,\n",
    "        '2' : 2,\n",
    "        '3' : 3,\n",
    "        '4' : 4,\n",
    "        '5' : 5,\n",
    "        '6' : 6,\n",
    "        '7' : 7,\n",
    "        '8' : 8,\n",
    "        '9' : 9\n",
    "    }\n",
    "    return sdict[x]\n",
    "    \n",
    "def int_str(x):\n",
    "    idict = {\n",
    "        0 : '0',\n",
    "        1 : '1',\n",
    "        2 : '2',\n",
    "        3 : '3',\n",
    "        4 : '4',\n",
    "        5 : '5',\n",
    "        6 : '6',\n",
    "        7 : '7',\n",
    "        8 : '8',\n",
    "        9 : '9'\n",
    "    }\n",
    "    return idict[x]\n",
    "    \n",
    "\n",
    "# Your code here.\n",
    "def dec2bin(x):\n",
    "    binary = []\n",
    "    \n",
    "    if(x == 0):\n",
    "        return int_str(0)\n",
    "    \n",
    "    while (x >= 1):\n",
    "        binary.insert(0, int_str(x % 2))\n",
    "        x //= 2\n",
    "        \n",
    "    return (\"\".join(binary) )\n",
    "\n",
    "def bin2dec(x):\n",
    "    decimal = 0\n",
    "        \n",
    "    binList = list(x[::-1])\n",
    "    \n",
    "    for i in range(0, len(binList)):\n",
    "        if(binList[i] == '1'):\n",
    "            decimal += 2**i\n",
    "    \n",
    "    return decimal\n"
   ]
  },
  {
   "cell_type": "code",
   "execution_count": 8,
   "metadata": {
    "deletable": false,
    "editable": false,
    "nbgrader": {
     "cell_type": "code",
     "checksum": "5d9474c6e5780b88d69a0f23cdbfc43d",
     "grade": false,
     "grade_id": "cell-5febb9133114de62",
     "locked": true,
     "schema_version": 3,
     "solution": false,
     "task": false
    }
   },
   "outputs": [
    {
     "name": "stdout",
     "output_type": "stream",
     "text": [
      "Question #1a Test Case #1: You Passed!\n",
      "Question #1a Test Case #2: You Passed!\n",
      "Question #1a Test Case #3: You Passed!\n",
      "Question #1a Test Case #4: You Passed!\n",
      "Question #1a Test Case #5: You Passed!\n",
      "Question #1a Test Case #6: You Passed!\n"
     ]
    }
   ],
   "source": [
    "print(\"Question #1a Test Case #1:\", tester(dec2bin(0), '0'))\n",
    "print(\"Question #1a Test Case #2:\", tester(dec2bin(15), '1111'))\n",
    "print(\"Question #1a Test Case #3:\", tester(dec2bin(999999999), '111011100110101100100111111111'))\n",
    "print(\"Question #1a Test Case #4:\", tester(bin2dec(''), 0))\n",
    "print(\"Question #1a Test Case #5:\", tester(bin2dec('10010101'), 149))\n",
    "print(\"Question #1a Test Case #6:\", tester(bin2dec('0101010101100011011010011101011001010010110101'), 23471366444213))"
   ]
  },
  {
   "cell_type": "code",
   "execution_count": null,
   "metadata": {
    "deletable": false,
    "editable": false,
    "nbgrader": {
     "cell_type": "code",
     "checksum": "465b7d8636b7a9b0cd7a2460d800838e",
     "grade": true,
     "grade_id": "cell-0854803adf6f43e4",
     "locked": true,
     "points": 1,
     "schema_version": 3,
     "solution": false
    }
   },
   "outputs": [],
   "source": [
    "# Hidden test cell"
   ]
  },
  {
   "cell_type": "code",
   "execution_count": null,
   "metadata": {
    "deletable": false,
    "editable": false,
    "nbgrader": {
     "cell_type": "code",
     "checksum": "d5a46403739285ff0911e707274cc9b4",
     "grade": true,
     "grade_id": "cell-484f7f2393fb1955",
     "locked": true,
     "points": 1,
     "schema_version": 3,
     "solution": false
    }
   },
   "outputs": [],
   "source": [
    "# Hidden test cell"
   ]
  },
  {
   "cell_type": "code",
   "execution_count": null,
   "metadata": {
    "deletable": false,
    "editable": false,
    "nbgrader": {
     "cell_type": "code",
     "checksum": "e924248168670af41be109bc49004a29",
     "grade": true,
     "grade_id": "cell-b01b933cc628100e",
     "locked": true,
     "points": 1,
     "schema_version": 3,
     "solution": false
    }
   },
   "outputs": [],
   "source": [
    "# Hidden test cell"
   ]
  },
  {
   "cell_type": "code",
   "execution_count": null,
   "metadata": {
    "deletable": false,
    "editable": false,
    "nbgrader": {
     "cell_type": "code",
     "checksum": "2fff145267b06a7e00534da860dd6e74",
     "grade": true,
     "grade_id": "cell-5ba5e7afa44a12c3",
     "locked": true,
     "points": 1,
     "schema_version": 3,
     "solution": false
    }
   },
   "outputs": [],
   "source": [
    "# Hidden test cell"
   ]
  },
  {
   "cell_type": "markdown",
   "metadata": {
    "deletable": false,
    "editable": false,
    "nbgrader": {
     "cell_type": "markdown",
     "checksum": "66f7c17fea77bbb523248e75417fe844",
     "grade": false,
     "grade_id": "cell-242c7365c30a27b9",
     "locked": true,
     "schema_version": 3,
     "solution": false
    }
   },
   "source": [
    "## Question 1b: Decimal/Hexadecimal Conversions (4 points)\n",
    "\n",
    "Write two functions: one that converts from hexadecimal (base 16) to decimal, `hex2dec`, and one that converts from decimal to hexadecimal, `dec2hex`. Output your hexadecimal values as a string; for instance, `31` in decimal would be the string \"1F\" in hexadecimal. However, we aren't done... I want you to put the letter \"H\" infront of your answer so I can see that it is a Hexidecimal Value! \n",
    "Your output is case sensitive.\n",
    "\n",
    "__Prohibited Functions__: You may not use `hex()`, `int()`, `.format()`, or other built-in conversion functions."
   ]
  },
  {
   "cell_type": "code",
   "execution_count": 113,
   "metadata": {
    "deletable": false,
    "nbgrader": {
     "cell_type": "code",
     "checksum": "7e4fe9189a0e3b82f9f23f3a7abe4d45",
     "grade": false,
     "grade_id": "cell-ffec72cc583c9c6c",
     "locked": false,
     "schema_version": 3,
     "solution": true
    }
   },
   "outputs": [],
   "source": [
    "# Write your answer here.\n",
    "alphabet = ['A', 'B', 'C', 'D', 'E', 'F', 'H']\n",
    "alpha_num = \"0123456789ABCDEFGH\"\n",
    "\n",
    "def hex2dec(n):\n",
    "    decimal = 0\n",
    "    \n",
    "    hexList = list(n[::-1])\n",
    "    \n",
    "    for i in range(len(hexList)):\n",
    "        if (hexList[i] in alphabet):\n",
    "            decimal += (alphabet.index(hexList[i]) + 10) * (16**i)\n",
    "        else:\n",
    "            decimal += str_int(hexList[i]) * (16**i)\n",
    "     \n",
    "    return decimal\n",
    "\n",
    "\n",
    "\n",
    "def dec2hex(n):\n",
    "    hexadecimal = []\n",
    "    \n",
    "    if(n == 0):\n",
    "        return '0'\n",
    "    \n",
    "    num = 0\n",
    "    while (n >= 1):\n",
    "        num = n % 16\n",
    "        hexadecimal.insert(0, alpha_num[num] )\n",
    "        n //= 16\n",
    "    \n",
    "    hexadecimal.insert(0, 'H')\n",
    "    \n",
    "    return (\"\".join(hexadecimal) )\n",
    "\n",
    "\n"
   ]
  },
  {
   "cell_type": "code",
   "execution_count": 114,
   "metadata": {
    "deletable": false,
    "editable": false,
    "nbgrader": {
     "cell_type": "code",
     "checksum": "3ca29bd333c69c51bb580b7377b5e04f",
     "grade": false,
     "grade_id": "cell-0149e475f1d273b1",
     "locked": true,
     "schema_version": 3,
     "solution": false,
     "task": false
    }
   },
   "outputs": [
    {
     "name": "stdout",
     "output_type": "stream",
     "text": [
      "Question #1b Test Case #1: You Passed!\n",
      "Question #1b Test Case #2: You Passed!\n",
      "Question #1b Test Case #3: You Passed!\n",
      "Question #1b Test Case #4: You Passed!\n"
     ]
    }
   ],
   "source": [
    "WASTE_OF_WATER = \"HDECAF\"\n",
    "DIVINE_NUMBER = 12648430\n",
    "print(\"Question #1b Test Case #1:\", tester(dec2hex(31), \"H1F\"))\n",
    "print(\"Question #1b Test Case #2:\", tester(dec2hex(912559), WASTE_OF_WATER))\n",
    "print(\"Question #1b Test Case #3:\", tester(hex2dec('2A'), 42))\n",
    "print(\"Question #1b Test Case #4:\", tester(hex2dec('C0FFEE'), DIVINE_NUMBER))"
   ]
  },
  {
   "cell_type": "code",
   "execution_count": null,
   "metadata": {
    "deletable": false,
    "editable": false,
    "nbgrader": {
     "cell_type": "code",
     "checksum": "cabef06480ef0db18971f3f77bf96d25",
     "grade": true,
     "grade_id": "cell-31c9848c88d2fc07",
     "locked": true,
     "points": 1,
     "schema_version": 3,
     "solution": false
    }
   },
   "outputs": [],
   "source": [
    "# Hidden test cell"
   ]
  },
  {
   "cell_type": "code",
   "execution_count": null,
   "metadata": {
    "deletable": false,
    "editable": false,
    "nbgrader": {
     "cell_type": "code",
     "checksum": "3ef6ca5300c2cb337f4153ed8a303fdf",
     "grade": true,
     "grade_id": "cell-048a535063da5366",
     "locked": true,
     "points": 1,
     "schema_version": 3,
     "solution": false
    }
   },
   "outputs": [],
   "source": [
    "# Hidden test cell"
   ]
  },
  {
   "cell_type": "code",
   "execution_count": null,
   "metadata": {
    "deletable": false,
    "editable": false,
    "nbgrader": {
     "cell_type": "code",
     "checksum": "0a31d6c1c737ef431da58f8133c2a16f",
     "grade": true,
     "grade_id": "cell-9eb0a498ba76d567",
     "locked": true,
     "points": 1,
     "schema_version": 3,
     "solution": false
    }
   },
   "outputs": [],
   "source": [
    "# Hidden test cell"
   ]
  },
  {
   "cell_type": "code",
   "execution_count": null,
   "metadata": {
    "deletable": false,
    "editable": false,
    "nbgrader": {
     "cell_type": "code",
     "checksum": "dd44839be6171c1e9466788092dbf6a6",
     "grade": true,
     "grade_id": "cell-74672c8fd795b3ce",
     "locked": true,
     "points": 1,
     "schema_version": 3,
     "solution": false
    }
   },
   "outputs": [],
   "source": [
    "# Hidden test cell"
   ]
  },
  {
   "cell_type": "markdown",
   "metadata": {
    "deletable": false,
    "editable": false,
    "nbgrader": {
     "cell_type": "markdown",
     "checksum": "d7348adef876b278c31ecd6c9b62b852",
     "grade": false,
     "grade_id": "cell-db44d5cf14cdb0c8",
     "locked": true,
     "schema_version": 3,
     "solution": false,
     "task": false
    }
   },
   "source": [
    "## Question 1c - Decimal/Octal Conversions [4 points]\n",
    "\n",
    "Write two functions: one that converts from octal (base 8) to decimal, `oct2dec`, and one that converts from decimal to octal, `dec2oct`. Output your octal values as a string; for instance, `25` in decimal would be the string \"31\" in octal. Same rules as Hexidemical, we need you to put the letter \"O\" infront of your Octal values.\n",
    "Your output is case sensitive.\n",
    "\n",
    "You will notice, `oct` contains no letters, just numbers \"01234567\". That means an `oct` number can be written as an integer. **You will need to write a function that converts a number to a string, since `oct` can be written using integers only.** \n",
    "\n",
    "__Prohibited Functions__: You may not use `oct()`, `int()`, `.format()`, or other built-in conversion functions, but you may now use `str`. Nothing other than `str()` however. "
   ]
  },
  {
   "cell_type": "code",
   "execution_count": 72,
   "metadata": {
    "deletable": false,
    "nbgrader": {
     "cell_type": "code",
     "checksum": "9d3d358a196340983076c78bce05f320",
     "grade": false,
     "grade_id": "cell-671699a8cefdcd55",
     "locked": false,
     "schema_version": 3,
     "solution": true
    }
   },
   "outputs": [],
   "source": [
    "# your code here\n",
    "def oct2dec(n):\n",
    "    num = 0\n",
    "    power = 0\n",
    "    digit = 0\n",
    "    \n",
    "    #new variables because variables take less compute time than doing the calculations over and over\n",
    "    for x in reversed(range( len(str(n)) )):\n",
    "        power = 10**x\n",
    "        digit = n//power\n",
    "        \n",
    "        num += digit * (8**x) \n",
    "        n -= digit * power\n",
    "        \n",
    "    return num\n",
    "\n",
    "def dec2oct(n):\n",
    "    num = 0\n",
    "        \n",
    "    for x in range(len(str(n)) + 1):\n",
    "        num += (n%8) * (10**x)\n",
    "        n //= 8\n",
    "        \n",
    "    return (\"O\" + str(num))\n"
   ]
  },
  {
   "cell_type": "code",
   "execution_count": 73,
   "metadata": {
    "deletable": false,
    "editable": false,
    "nbgrader": {
     "cell_type": "code",
     "checksum": "4b1876bf45dc9dff9ffcd9dad0d8a62b",
     "grade": false,
     "grade_id": "cell-2ddb9653790fb836",
     "locked": true,
     "schema_version": 3,
     "solution": false,
     "task": false
    }
   },
   "outputs": [
    {
     "name": "stdout",
     "output_type": "stream",
     "text": [
      "Question #1c Test Case #1: You Passed!\n",
      "Question #1c Test Case #2: You Passed!\n",
      "Question #1c Test Case #3: You Passed!\n",
      "Question #1c Test Case #4: You Passed!\n"
     ]
    }
   ],
   "source": [
    "print(\"Question #1c Test Case #1:\", tester(oct2dec(15253), 6827))\n",
    "print(\"Question #1c Test Case #2:\", tester(oct2dec(16), 14))\n",
    "print(\"Question #1c Test Case #3:\", tester(dec2oct(999), \"O1747\"))\n",
    "print(\"Question #1c Test Case #4:\", tester(dec2oct(8), \"O10\"))"
   ]
  },
  {
   "cell_type": "code",
   "execution_count": null,
   "metadata": {
    "deletable": false,
    "editable": false,
    "nbgrader": {
     "cell_type": "code",
     "checksum": "a5da27c3b4053ce75e2011f1cea96319",
     "grade": true,
     "grade_id": "cell-ab4901c48886df6a",
     "locked": true,
     "points": 1,
     "schema_version": 3,
     "solution": false
    }
   },
   "outputs": [],
   "source": [
    "# Hidden test cell"
   ]
  },
  {
   "cell_type": "code",
   "execution_count": null,
   "metadata": {
    "deletable": false,
    "editable": false,
    "nbgrader": {
     "cell_type": "code",
     "checksum": "c20ef9fe59ade5abbbc4ec76c27da039",
     "grade": true,
     "grade_id": "cell-87aa53e63ec8b7b3",
     "locked": true,
     "points": 1,
     "schema_version": 3,
     "solution": false
    }
   },
   "outputs": [],
   "source": [
    "# Hidden test cell"
   ]
  },
  {
   "cell_type": "code",
   "execution_count": null,
   "metadata": {
    "deletable": false,
    "editable": false,
    "nbgrader": {
     "cell_type": "code",
     "checksum": "9b9d94e974d41355571472038492474a",
     "grade": true,
     "grade_id": "cell-99025ad4de8a7fd9",
     "locked": true,
     "points": 1,
     "schema_version": 3,
     "solution": false
    }
   },
   "outputs": [],
   "source": [
    "# Hidden test cell"
   ]
  },
  {
   "cell_type": "code",
   "execution_count": null,
   "metadata": {
    "deletable": false,
    "editable": false,
    "nbgrader": {
     "cell_type": "code",
     "checksum": "064886692e3ef2e0cdcae46b303d89ef",
     "grade": true,
     "grade_id": "cell-868466263fb6768f",
     "locked": true,
     "points": 1,
     "schema_version": 3,
     "solution": false
    }
   },
   "outputs": [],
   "source": [
    "# Hidden test cell"
   ]
  },
  {
   "cell_type": "markdown",
   "metadata": {
    "deletable": false,
    "editable": false,
    "nbgrader": {
     "cell_type": "markdown",
     "checksum": "40438e5cbedd73dac7bc763596a09745",
     "grade": false,
     "grade_id": "cell-e61fa62ec99eec01",
     "locked": true,
     "schema_version": 3,
     "solution": false
    }
   },
   "source": [
    "## Question 2 - Alien Palindromes [4 points]\n",
    "\n",
    "It's an exciting time to be alive. Aliens have made first contact with humans--or so they thought. Unfortunately, their first encounter with our species was with \"Starman\", the most recent endeavour in Elon Musk's desperate attempt to return home to Mars. Needless to say, they failed all attempts at communication with the inanimate spacesuit. Naturally, Ol' Musky was quite disappointed.\n",
    "\n",
    "Top scientists have hypothesized that our failure to communicate with the aliens was because, well, they simply had too many fingers. On earth, we use a base 10 number system because humans have, on average, 10 fingers. In order to display our intelligence in any future encounters with extraterrestrial life, we want to show them that we respect however many fingers they have, and the number system they use as a consequence.\n",
    "\n",
    "Your task is to write a program that finds numbers that would be considered 'interesting' in both of our number systems--namely, palindromes. For instance, 1991 is 7C7 in hexadecimal, and both numbers are palindromes. Of course, we don't know how many fingers the aliens will have, but Elon assures us that it will be no more than 36. This is convenient because we can just use `0123456789ABCDEFGHIJKLMNOPQRSTUVWXYZ` to represent our numbers.\n",
    "\n",
    "Write a function, `alien(b, N)` that finds all numbers up to, and including, `N` that are palindromes in both base 10 and base `b`. Exclude any one digit numbers in either base--obviously, 1 is 1 in both decimal and any other number system. Providing the aliens with such trivial solutions will most likely anger them, and result in the complete annihilation of humanity.\n",
    "\n",
    "Your function should return all palindromic numbers in both decimal and the alien system as a list of tuples: [(decimal1, alien1), (decimal2, alien2)... etc] in increasing order.\n",
    "\n",
    "**For this question, you are free to use any functions you wish.** (But you really shouldn't need any by now except maybe `str()` for convenience!)"
   ]
  },
  {
   "cell_type": "code",
   "execution_count": 107,
   "metadata": {
    "deletable": false,
    "nbgrader": {
     "cell_type": "code",
     "checksum": "d3d644dcb632f08143adfc8bab8347b5",
     "grade": false,
     "grade_id": "cell-77063b4697eac250",
     "locked": false,
     "schema_version": 3,
     "solution": true
    }
   },
   "outputs": [],
   "source": [
    "def palindrome(n):\n",
    "    check_list = str(n)\n",
    "    check_list.split()\n",
    "    \n",
    "    return (check_list == check_list[::-1])\n",
    "\n",
    "\n",
    "def dec2alien(b, n):\n",
    "    if(n == 0):\n",
    "        return '0'\n",
    "    \n",
    "    alien_list = []\n",
    "    numbers = \"0123456789ABCDEFGHIJKLMNOPQRSTUVWXYZ\"\n",
    "    \n",
    "    num = 0\n",
    "    while (n >= 1):\n",
    "        num = n % b\n",
    "        alien_list.insert(0, numbers[num] )\n",
    "        n //= b\n",
    "    \n",
    "    return (\"\".join(alien_list) )\n",
    "\n",
    "def alien(b, N):\n",
    "        \n",
    "    \n",
    "    alien_list = []\n",
    "    \n",
    "    alien_b = 0\n",
    "    #for the fact that the alien base one will be just a single character otherwise\n",
    "    for x in range(36,N):\n",
    "        alien_b = dec2alien(b, x)\n",
    "        \n",
    "        if palindrome(x) and palindrome(alien_b):\n",
    "            alien_list.append( (x, alien_b) )\n",
    "            \n",
    "    print(alien_list)\n",
    "\n",
    "    return alien_list"
   ]
  },
  {
   "cell_type": "code",
   "execution_count": 108,
   "metadata": {
    "deletable": false,
    "editable": false,
    "nbgrader": {
     "cell_type": "code",
     "checksum": "3125adecb4054008213a6e7bcc65b662",
     "grade": false,
     "grade_id": "cell-5cdd6293c5ebc281",
     "locked": true,
     "schema_version": 3,
     "solution": false,
     "task": false
    }
   },
   "outputs": [
    {
     "name": "stdout",
     "output_type": "stream",
     "text": [
      "[(353, '161'), (626, '272'), (787, '313'), (979, '3D3')]\n",
      "Question #2 - Test Case #1: You Passed!\n",
      "[(121, '232'), (171, '333'), (242, '464'), (292, '565')]\n",
      "Question #2 - Test Case #2: You Passed!\n",
      "[(929, '131'), (1771, '232'), (19191, 'MNM')]\n",
      "Question #2 - Test Case #3: You Passed!\n"
     ]
    }
   ],
   "source": [
    "print(\"Question #2 - Test Case #1:\", tester(alien(16, 1000), [(353, '161'), (626, '272'), (787, '313'), (979, '3D3')]))\n",
    "print(\"Question #2 - Test Case #2:\", tester(alien(7, 1000), [(121, '232'), (171, '333'), (242, '464'), (292, '565')]))\n",
    "print(\"Question #2 - Test Case #3:\", tester(alien(29, 100000), [(929, '131'), (1771, '232'), (19191, 'MNM')]))"
   ]
  },
  {
   "cell_type": "code",
   "execution_count": null,
   "metadata": {
    "deletable": false,
    "editable": false,
    "nbgrader": {
     "cell_type": "code",
     "checksum": "0c5ac5c14d1fe9971e892a681295e97d",
     "grade": true,
     "grade_id": "cell-e58bfa8edb7ad7d4",
     "locked": true,
     "points": 1,
     "schema_version": 3,
     "solution": false
    }
   },
   "outputs": [],
   "source": [
    "# Hidden test cell"
   ]
  },
  {
   "cell_type": "code",
   "execution_count": null,
   "metadata": {
    "deletable": false,
    "editable": false,
    "nbgrader": {
     "cell_type": "code",
     "checksum": "4f5ab512941f291c3ff7eaaaaa36a76b",
     "grade": true,
     "grade_id": "cell-7a3553c87274e988",
     "locked": true,
     "points": 1,
     "schema_version": 3,
     "solution": false
    }
   },
   "outputs": [],
   "source": [
    "# Hidden test cell"
   ]
  },
  {
   "cell_type": "code",
   "execution_count": null,
   "metadata": {
    "deletable": false,
    "editable": false,
    "nbgrader": {
     "cell_type": "code",
     "checksum": "b9d9955965ccdfe9f3f5d05ba636bdce",
     "grade": true,
     "grade_id": "cell-afabc9a5ca6248b4",
     "locked": true,
     "points": 1,
     "schema_version": 3,
     "solution": false
    }
   },
   "outputs": [],
   "source": [
    "# Hidden test cell"
   ]
  },
  {
   "cell_type": "code",
   "execution_count": null,
   "metadata": {
    "deletable": false,
    "editable": false,
    "nbgrader": {
     "cell_type": "code",
     "checksum": "b6160f75d2be5958284ad1c1e7bbbb5e",
     "grade": true,
     "grade_id": "cell-b06a6625135faf48",
     "locked": true,
     "points": 1,
     "schema_version": 3,
     "solution": false
    }
   },
   "outputs": [],
   "source": [
    "# Hidden test cell"
   ]
  },
  {
   "cell_type": "markdown",
   "metadata": {
    "deletable": false,
    "editable": false,
    "nbgrader": {
     "cell_type": "markdown",
     "checksum": "c5a0df0b365e24d32818b6ae672f3d25",
     "grade": false,
     "grade_id": "cell-cf9a1aa54077a851",
     "locked": true,
     "schema_version": 3,
     "solution": false,
     "task": false
    }
   },
   "source": [
    "## Question 3 - Set Theory without Sets! [10 points]\n",
    "\n",
    "Sets are a great tool in many situations, but coders often get too comfortable with lists and forget they exist! So, to show you guys the patterns where a set might be useful, you are going to code the set operations without the use of the `set()` function. \n",
    "\n",
    "Write Python functions the replicate the behaviours of the following `set` operations using `list` types!\n",
    "\n",
    "- `add(a: Set[T], b: T) -> Set[T]`: Adds an element of type T into a list containing items of type T. Since Python ignores typing, you may assume that element `b` is the same type as everything in `a`; Simply add the element `b` to the list `a`. Assume that the items a\n",
    "- `delete(a: Set[T], b: T) -> Set[T]`: Remove the item from the list if you can find it, and return the new list without said item.\n",
    "- `minus(a: Set[T], b: Set[T]) -> Set[T]`: This function calls delete on `a` for every item within `b`.\n",
    "- `intersect(a: Set[T], b: Set[T]) -> Set[T]`: Return a list containing only the elements that appear in BOTH sets.\n",
    "- `union(a: Set[T], b: Set[T]) -> Set[T]`: Return a list containing the elements that appear in `a` OR `b`. \n",
    "\n",
    "Notes and Warnings:\n",
    "\n",
    "- But be careful! Sets don't contain duplicates, so your lists shouldn't either!\n",
    "- For all questions, you may assume that all elements are the same type.\n",
    "- Remember, if you use `set()`, you get an automatic 0 for this question."
   ]
  },
  {
   "cell_type": "code",
   "execution_count": 169,
   "metadata": {
    "deletable": false,
    "nbgrader": {
     "cell_type": "code",
     "checksum": "a2a9c9bf274dbbf5306ae09fb5778081",
     "grade": false,
     "grade_id": "cell-5e64dfc916a4b9cb",
     "locked": false,
     "schema_version": 3,
     "solution": true,
     "task": false
    }
   },
   "outputs": [],
   "source": [
    "def list2Set(n):\n",
    "    new_set = {x for x in n}\n",
    "    return new_set\n",
    "\n",
    "\n",
    "\n",
    "def add(a, b):\n",
    "    a.append(b)\n",
    "    return list2Set(a)\n",
    "\n",
    "def delete(a, b):\n",
    "    a.remove(b)\n",
    "    return list2Set(a)\n",
    "\n",
    "\n",
    "def minus(a, b):\n",
    "    for x in b:\n",
    "        a.remove(x)\n",
    "            \n",
    "    return list2Set(a)\n",
    "\n",
    "def intersect(a, b):\n",
    "    intersect_list = []\n",
    "    for x in a:\n",
    "        if x in b:\n",
    "            intersect_list.append(x)\n",
    "            \n",
    "    return list2Set(intersect_list)\n",
    "\n",
    "def union(a,b):\n",
    "    return list2Set(a+b)\n",
    "\n"
   ]
  },
  {
   "cell_type": "code",
   "execution_count": 170,
   "metadata": {
    "deletable": false,
    "editable": false,
    "nbgrader": {
     "cell_type": "code",
     "checksum": "0068577aa5bd4a25bb05f5f11fd68c36",
     "grade": false,
     "grade_id": "cell-8bf023bd9583d8d9",
     "locked": true,
     "schema_version": 3,
     "solution": false,
     "task": false
    }
   },
   "outputs": [
    {
     "name": "stdout",
     "output_type": "stream",
     "text": [
      "Question #3 - Test Case #1: You Passed!\n",
      "Question #3 - Test Case #2: You Passed!\n",
      "Question #3 - Test Case #3: You Passed!\n",
      "Question #3 - Test Case #4: You Passed!\n",
      "Question #3 - Test Case #5: You Passed!\n"
     ]
    }
   ],
   "source": [
    "s = set({1, 2, 3})\n",
    "s.add(5)\n",
    "print(\"Question #3 - Test Case #1:\", \n",
    "    tester(\n",
    "        sorted(add([1, 2, 3], 5)), \n",
    "        sorted(list(s))\n",
    "    )\n",
    ")\n",
    "s &= set({1, 3})\n",
    "print(\"Question #3 - Test Case #2:\", \n",
    "    tester(\n",
    "        sorted(delete([1, 2, 3], 2)), \n",
    "        sorted(list(s))\n",
    "    )\n",
    ")\n",
    "print(\"Question #3 - Test Case #3:\", \n",
    "    tester(\n",
    "        sorted(minus([1, 2, 3], [2, 3])), \n",
    "        sorted(list(set({1, 2, 3}) - set({2, 3})))\n",
    "    )\n",
    ")\n",
    "print(\"Question #3 - Test Case #4:\", \n",
    "    tester(\n",
    "        sorted(intersect([1, 2, 3], [2])), \n",
    "        sorted(list(set({1, 2, 3}) & set({2})))\n",
    "    )\n",
    ")\n",
    "print(\"Question #3 - Test Case #5:\", \n",
    "    tester(\n",
    "        sorted(union([1, 2, 3], [4, 5, 6])), \n",
    "        sorted(list(set({1, 2, 3}) | set({4, 5, 6})))\n",
    "    )\n",
    ")"
   ]
  },
  {
   "cell_type": "code",
   "execution_count": null,
   "metadata": {
    "deletable": false,
    "editable": false,
    "nbgrader": {
     "cell_type": "code",
     "checksum": "7b967b09f75c5c32aca63e6c59cf9d3d",
     "grade": true,
     "grade_id": "cell-cd49f7e65a1b9710",
     "locked": true,
     "points": 1,
     "schema_version": 3,
     "solution": false,
     "task": false
    }
   },
   "outputs": [],
   "source": [
    "# Hidden test cell"
   ]
  },
  {
   "cell_type": "code",
   "execution_count": null,
   "metadata": {
    "deletable": false,
    "editable": false,
    "nbgrader": {
     "cell_type": "code",
     "checksum": "fd4cfc309e63fe2f4c58c7e014ab2793",
     "grade": true,
     "grade_id": "cell-cb99d8f841df0adf",
     "locked": true,
     "points": 1,
     "schema_version": 3,
     "solution": false,
     "task": false
    }
   },
   "outputs": [],
   "source": [
    "# Hidden test cell"
   ]
  },
  {
   "cell_type": "code",
   "execution_count": null,
   "metadata": {
    "deletable": false,
    "editable": false,
    "nbgrader": {
     "cell_type": "code",
     "checksum": "73f28829023c23aacb0c01055ed51bc7",
     "grade": true,
     "grade_id": "cell-be96f32149719787",
     "locked": true,
     "points": 1,
     "schema_version": 3,
     "solution": false,
     "task": false
    }
   },
   "outputs": [],
   "source": [
    "# Hidden test cell"
   ]
  },
  {
   "cell_type": "code",
   "execution_count": null,
   "metadata": {
    "deletable": false,
    "editable": false,
    "nbgrader": {
     "cell_type": "code",
     "checksum": "3dbf17f4e2b539ff9e11f7cb94ef5b74",
     "grade": true,
     "grade_id": "cell-8ff2404cee31285c",
     "locked": true,
     "points": 1,
     "schema_version": 3,
     "solution": false,
     "task": false
    }
   },
   "outputs": [],
   "source": [
    "# Hidden test cell"
   ]
  },
  {
   "cell_type": "code",
   "execution_count": null,
   "metadata": {
    "deletable": false,
    "editable": false,
    "nbgrader": {
     "cell_type": "code",
     "checksum": "325c0fdc3e5a5028712e4d663a685936",
     "grade": true,
     "grade_id": "cell-fd5a193c56b6bd3f",
     "locked": true,
     "points": 1,
     "schema_version": 3,
     "solution": false,
     "task": false
    }
   },
   "outputs": [],
   "source": [
    "# Hidden test cell"
   ]
  },
  {
   "cell_type": "code",
   "execution_count": null,
   "metadata": {
    "deletable": false,
    "editable": false,
    "nbgrader": {
     "cell_type": "code",
     "checksum": "5cd7833116ce12910d37cf69fc54d3d6",
     "grade": true,
     "grade_id": "cell-9456802e652cd023",
     "locked": true,
     "points": 1,
     "schema_version": 3,
     "solution": false,
     "task": false
    }
   },
   "outputs": [],
   "source": [
    "# Hidden test cell"
   ]
  },
  {
   "cell_type": "code",
   "execution_count": null,
   "metadata": {
    "deletable": false,
    "editable": false,
    "nbgrader": {
     "cell_type": "code",
     "checksum": "27ba076f912288a6c79e0838ad46dd36",
     "grade": true,
     "grade_id": "cell-395d565822f3d838",
     "locked": true,
     "points": 1,
     "schema_version": 3,
     "solution": false,
     "task": false
    }
   },
   "outputs": [],
   "source": [
    "# Hidden test cell"
   ]
  },
  {
   "cell_type": "code",
   "execution_count": null,
   "metadata": {
    "deletable": false,
    "editable": false,
    "nbgrader": {
     "cell_type": "code",
     "checksum": "0a036bc011061da01521493ea2bf8b3a",
     "grade": true,
     "grade_id": "cell-df6e9c4467d3859f",
     "locked": true,
     "points": 1,
     "schema_version": 3,
     "solution": false,
     "task": false
    }
   },
   "outputs": [],
   "source": [
    "# Hidden test cell"
   ]
  },
  {
   "cell_type": "code",
   "execution_count": null,
   "metadata": {
    "deletable": false,
    "editable": false,
    "nbgrader": {
     "cell_type": "code",
     "checksum": "090d707a86c88c74cbb33cd30489c58c",
     "grade": true,
     "grade_id": "cell-a02d015072d5af24",
     "locked": true,
     "points": 1,
     "schema_version": 3,
     "solution": false,
     "task": false
    }
   },
   "outputs": [],
   "source": [
    "# Hidden test cell"
   ]
  },
  {
   "cell_type": "code",
   "execution_count": null,
   "metadata": {
    "deletable": false,
    "editable": false,
    "nbgrader": {
     "cell_type": "code",
     "checksum": "c5eb147747334e045f48e63bb8d1564f",
     "grade": true,
     "grade_id": "cell-fd559164f7a0a657",
     "locked": true,
     "points": 1,
     "schema_version": 3,
     "solution": false,
     "task": false
    }
   },
   "outputs": [],
   "source": [
    "# Hidden test cell"
   ]
  },
  {
   "cell_type": "markdown",
   "metadata": {
    "deletable": false,
    "editable": false,
    "nbgrader": {
     "cell_type": "markdown",
     "checksum": "da5632b80e69527e09f364ea169543d0",
     "grade": false,
     "grade_id": "cell-5d325e19c5598a13",
     "locked": true,
     "schema_version": 3,
     "solution": false,
     "task": false
    }
   },
   "source": [
    "## Bonus Question - Gray Codes [4 points]\n",
    "\n",
    "Consider following Python function for enumerating all binary numbers with a given width. For example, as `0`, `1` are the binary numbers with one digit, those with two digits are formed by prepending `0` to those numbers, `00`, `01`, and the prepending `1` to those numbers `10`, `11`, resulting in `00`, `01`, `10`, `11`. Those with three digits are formed by prepending `0` again, `000`, `001`, `010`, `011`, and then prepending `1` as well, `100`, `101`, `110`, `111`.\n",
    "\n",
    "The Binary Numbers function below will give you an idea of what we are expecting. It generates all possible binary numbers up to the width providided. Base your solution on it."
   ]
  },
  {
   "cell_type": "code",
   "execution_count": 173,
   "metadata": {
    "deletable": false,
    "editable": false,
    "nbgrader": {
     "cell_type": "code",
     "checksum": "3c0adedf450759ca344d61fe88dc5d7f",
     "grade": false,
     "grade_id": "cell-460de8ac3bd5ab9a",
     "locked": true,
     "schema_version": 3,
     "solution": false,
     "task": false
    }
   },
   "outputs": [],
   "source": [
    "def binaryNumbers(width):\n",
    "    return [''] if width == 0 else \\\n",
    "           ['0' + x for x in binaryNumbers(width - 1)] + \\\n",
    "           ['1' + x for x in binaryNumbers(width - 1)]"
   ]
  },
  {
   "cell_type": "markdown",
   "metadata": {
    "deletable": false,
    "editable": false,
    "nbgrader": {
     "cell_type": "markdown",
     "checksum": "32bcb65c3516667dbf610f24e02d1bc9",
     "grade": false,
     "grade_id": "cell-974a6b0b4f4c6ce5",
     "locked": true,
     "schema_version": 3,
     "solution": false,
     "task": false
    }
   },
   "source": [
    "| Width | Binary Code | Gray Code |\n",
    "|-------|-------------|-----------|\n",
    "|     1 |           0 |         0 |\n",
    "|       |           1 |         1 |\n",
    "|     2 |          00 |        00 |\n",
    "|       |          01 |        00 |\n",
    "|       |          10 |        11 |\n",
    "|       |          11 |        00 |\n",
    "|     3 |         000 |       000 |\n",
    "|       |         001 |       001 |\n",
    "|       |         010 |       011 |\n",
    "|       |         011 |       010 |\n",
    "|       |         100 |       110 |\n",
    "|       |         101 |       111 |\n",
    "|       |         110 |       101 |\n",
    "|       |         111 |       100 |\n",
    "\n",
    "The Gray code is a binary code that has the property that any two consecutive numbers differ only by one bit. The Gray code has several applications, for example in digital TV transmissions. \n",
    "\n",
    "It is constructed similarly to binary numbers, but with reversal when prepending `1`: \n",
    "\n",
    "- For example, given `[\"0\", \"1\"]`, the Gray code is formed by prepending `\"0\"` to those numbers to get `[\"00\", \"01\"]`, and then prepending `\"1\"` after reversing those numbers to get `[\"11\", \"10\"]`, resulting in `[\"00\", \"01\", \"11\", \"10\"]`. \n",
    "- The Gray code with three digits is formed by prepending `\"0\"` again, `[\"000\", \"001\", \"011\", \"010\"]`, and the prepending `\"1\"` after reversing the numbers, `[\"110\", \"111\", \"101\", \"100\"]`. \n",
    "    \n",
    "Write a Python function `grayCode(width)` that returns a list with the Gray codes of the given width.\n",
    "\n",
    "For this one, you'll have to design your own test cases! "
   ]
  },
  {
   "cell_type": "code",
   "execution_count": 223,
   "metadata": {
    "deletable": false,
    "nbgrader": {
     "cell_type": "code",
     "checksum": "d6bf80ec796e1a624c90c453eb6530d9",
     "grade": false,
     "grade_id": "cell-f10433d4db0559ed",
     "locked": false,
     "schema_version": 3,
     "solution": true
    }
   },
   "outputs": [
    {
     "name": "stdout",
     "output_type": "stream",
     "text": [
      "['00', '01', '11', '10']\n",
      "['000', '001', '011', '010', '110', '111', '101', '100']\n"
     ]
    }
   ],
   "source": [
    "## Your code here!\n",
    "\n",
    "def grayCode(width):\n",
    "\n",
    "    if width == 0:\n",
    "        return ['']\n",
    "    \n",
    "    grey_half1 = []\n",
    "    grey_half2 = []\n",
    "    \n",
    "    for x in grayCode(width - 1):\n",
    "        grey_half1 += ['0' + x] \n",
    "    \n",
    "    for i in grayCode(width - 1):\n",
    "        grey_half2 += ['1' + i]\n",
    "            \n",
    "    return grey_half1 + grey_half2[::-1]\n",
    "        \n",
    "\n",
    "print( grayCode(2) )\n",
    "print( grayCode(3) )"
   ]
  },
  {
   "cell_type": "code",
   "execution_count": 212,
   "metadata": {
    "deletable": false,
    "editable": false,
    "nbgrader": {
     "cell_type": "code",
     "checksum": "eb48050f283eaec0f3a05c019a8241b6",
     "grade": true,
     "grade_id": "cell-e5d90ea2c09fc2f6",
     "locked": true,
     "points": 1,
     "schema_version": 3,
     "solution": false
    }
   },
   "outputs": [],
   "source": [
    "# Hidden test cell"
   ]
  },
  {
   "cell_type": "code",
   "execution_count": null,
   "metadata": {
    "deletable": false,
    "editable": false,
    "nbgrader": {
     "cell_type": "code",
     "checksum": "a1156a2da443bb8ead27e8e5bbb7e60c",
     "grade": true,
     "grade_id": "cell-68059897e88e8e3a",
     "locked": true,
     "points": 1,
     "schema_version": 3,
     "solution": false
    }
   },
   "outputs": [],
   "source": [
    "# Hidden test cell"
   ]
  },
  {
   "cell_type": "code",
   "execution_count": null,
   "metadata": {
    "deletable": false,
    "editable": false,
    "nbgrader": {
     "cell_type": "code",
     "checksum": "c549452fa17574cc8fe015e1d93bf091",
     "grade": true,
     "grade_id": "cell-9e5c29710e119d73",
     "locked": true,
     "points": 1,
     "schema_version": 3,
     "solution": false
    }
   },
   "outputs": [],
   "source": [
    "# Hidden test cell"
   ]
  },
  {
   "cell_type": "code",
   "execution_count": null,
   "metadata": {
    "deletable": false,
    "editable": false,
    "nbgrader": {
     "cell_type": "code",
     "checksum": "f9739ffd9fc5049976cef315f4ecc5ec",
     "grade": true,
     "grade_id": "cell-871e081460bd2d66",
     "locked": true,
     "points": 1,
     "schema_version": 3,
     "solution": false
    }
   },
   "outputs": [],
   "source": [
    "# Hidden test cell"
   ]
  }
 ],
 "metadata": {
  "kernelspec": {
   "display_name": "Python 3 (ipykernel)",
   "language": "python",
   "name": "python3"
  },
  "language_info": {
   "codemirror_mode": {
    "name": "ipython",
    "version": 3
   },
   "file_extension": ".py",
   "mimetype": "text/x-python",
   "name": "python",
   "nbconvert_exporter": "python",
   "pygments_lexer": "ipython3",
   "version": "3.9.13"
  }
 },
 "nbformat": 4,
 "nbformat_minor": 2
}
